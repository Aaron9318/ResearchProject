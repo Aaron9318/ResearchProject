{
  "nbformat": 4,
  "nbformat_minor": 0,
  "metadata": {
    "colab": {
      "name": "Resnet34.ipynb",
      "provenance": [],
      "collapsed_sections": [
        "sQb_ztc-UHf8"
      ],
      "authorship_tag": "ABX9TyOpYNS3mBb7Gk0a5g6p8wyC",
      "include_colab_link": true
    },
    "kernelspec": {
      "name": "python3",
      "display_name": "Python 3"
    },
    "language_info": {
      "name": "python"
    },
    "accelerator": "GPU"
  },
  "cells": [
    {
      "cell_type": "markdown",
      "metadata": {
        "id": "view-in-github",
        "colab_type": "text"
      },
      "source": [
        "<a href=\"https://colab.research.google.com/github/Aaron9318/ResearchProject/blob/main/Resnet/Resnet34.ipynb\" target=\"_parent\"><img src=\"https://colab.research.google.com/assets/colab-badge.svg\" alt=\"Open In Colab\"/></a>"
      ]
    },
    {
      "cell_type": "markdown",
      "metadata": {
        "id": "VsZw1hz_pW5p"
      },
      "source": [
        "## Imports\n"
      ]
    },
    {
      "cell_type": "code",
      "metadata": {
        "id": "jMd1TKaa77CO"
      },
      "source": [
        "# from google.colab import drive\n",
        "# drive.mount('/content/drive')"
      ],
      "execution_count": 1,
      "outputs": []
    },
    {
      "cell_type": "code",
      "metadata": {
        "id": "Exez9A33AFRB"
      },
      "source": [
        "import time\n",
        "import numpy as np\n",
        "import torch\n",
        "from torch.utils.data import DataLoader\n",
        "#from torchvision import datasets\n",
        "#from torchvision import transforms\n",
        "import glob, os\n",
        "from tqdm import tqdm\n",
        "import torchvision\n",
        "#State the main folder to read the files is located here\n",
        "#os.chdir(r\"/content/drive/MyDrive/ResearchProject/Data\")\n",
        "os.chdir(r\"C:\\Users\\demon\\Documents\\Maestria y Papeles Alemania\\ResearchProject\\datos\\Data\")"
      ],
      "execution_count": 2,
      "outputs": []
    },
    {
      "cell_type": "code",
      "metadata": {
        "id": "PQ6oz2l_1vqK"
      },
      "source": [
        "from collections import defaultdict\n",
        "from functools import partial\n",
        "from multiprocessing import cpu_count\n",
        "from pathlib import Path\n",
        "from textwrap import dedent"
      ],
      "execution_count": 3,
      "outputs": []
    },
    {
      "cell_type": "code",
      "metadata": {
        "id": "eZhiHome13Bn"
      },
      "source": [
        "import itertools \n",
        "import matplotlib.pyplot as plt\n",
        "import numpy as np\n",
        "import pandas as pd\n",
        "import math\n",
        "import joblib\n",
        "#import sklearn.externals \n",
        "#from sklearn.externals import joblib\n",
        "from sklearn.model_selection import train_test_split\n",
        "from sklearn.preprocessing import LabelEncoder, StandardScaler\n",
        "import torch\n",
        "from torch import nn\n",
        "from torch import optim\n",
        "from torch.nn import functional as F\n",
        "from torch.optim.lr_scheduler import _LRScheduler\n",
        "from torch.utils.data import TensorDataset, DataLoader\n"
      ],
      "execution_count": 4,
      "outputs": []
    },
    {
      "cell_type": "code",
      "metadata": {
        "id": "ifKfOz9bfnUk"
      },
      "source": [
        "# From local helper files\n",
        "from helper_evaluation import set_all_seeds, set_deterministic, compute_confusion_matrix\n",
        "from helper_train import train_model\n",
        "from helper_plotting import plot_training_loss, plot_accuracy, show_examples, plot_confusion_matrix\n",
        "from helper_dataset import get_dataloaders_cifar10, UnNormalize"
      ],
      "execution_count": 5,
      "outputs": []
    },
    {
      "cell_type": "code",
      "metadata": {
        "id": "iRrLKeUo9P4E"
      },
      "source": [
        "\n",
        "\n",
        "def plot_confusion_matrixes(cm, classes, normalize=False, title='Confusion matrix', cmap=plt.cm.Blues):\n",
        "    if normalize:\n",
        "        cm = cm.astype('float') / cm.sum(axis=1)[:, np.newaxis]\n",
        "        print(\"Normalized confusion matrix\")\n",
        "    else:\n",
        "        print('Confusion matrix, without normalization')\n",
        "\n",
        "    print(cm)\n",
        "    plt.imshow(cm, interpolation='nearest', cmap=cmap)\n",
        "    plt.title(title)\n",
        "    plt.colorbar()\n",
        "    tick_marks = np.arange(len(classes))\n",
        "    plt.xticks(tick_marks, classes, rotation=45)\n",
        "    plt.yticks(tick_marks, classes)\n",
        "\n",
        "    fmt = '.2f' if normalize else 'd'\n",
        "    thresh = cm.max() / 2.\n",
        "    for i, j in itertools.product(range(cm.shape[0]), range(cm.shape[1])):\n",
        "        plt.text(j, i, format(cm[i, j], fmt), horizontalalignment=\"center\", color=\"white\" if cm[i, j] > thresh else \"black\")\n",
        "\n",
        "    plt.tight_layout()\n",
        "    plt.ylabel('True label')\n",
        "    plt.xlabel('Predicted label')"
      ],
      "execution_count": 6,
      "outputs": []
    },
    {
      "cell_type": "markdown",
      "metadata": {
        "id": "sQb_ztc-UHf8"
      },
      "source": [
        "## DatasetReadingoneclass\n"
      ]
    },
    {
      "cell_type": "code",
      "metadata": {
        "id": "Bo-JGxuYQWjH"
      },
      "source": [
        "##########################\n",
        "### SETTINGS\n",
        "##########################\n",
        "\n",
        "RANDOM_SEED = 123\n",
        "BATCH_SIZE = 256\n",
        "NUM_EPOCHS = 50\n",
        "#DEVICE = torch.device('cuda:3' if torch.cuda.is_available() else 'cpu')"
      ],
      "execution_count": 7,
      "outputs": []
    },
    {
      "cell_type": "code",
      "metadata": {
        "id": "URYNaGzJQYXG"
      },
      "source": [
        "set_all_seeds(RANDOM_SEED)\n",
        "#set_deterministic()"
      ],
      "execution_count": 8,
      "outputs": []
    },
    {
      "cell_type": "code",
      "metadata": {
        "id": "IrbaoL6zm8QJ",
        "colab": {
          "base_uri": "https://localhost:8080/"
        },
        "outputId": "a1c31246-a97d-4ac8-f1e1-a8e2e0c827ef"
      },
      "source": [
        "import h5py\n",
        "\n",
        "with h5py.File(r\"dataBaselinecut100.h5\", \"r\") as f:\n",
        "#with h5py.File(r\"dataBaselinecut1000.h5\", \"r\") as f:\n",
        "    # List all groups\n",
        "    print(\"Keys: %s\" % f.keys())\n",
        "    a_group_key = list(f.keys())[0]\n",
        "\n",
        "    # Get the data\n",
        "    data = list(f[a_group_key])\n",
        "\n",
        "\n"
      ],
      "execution_count": 9,
      "outputs": [
        {
          "output_type": "stream",
          "name": "stdout",
          "text": [
            "Keys: <KeysViewHDF5 ['EEG']>\n"
          ]
        }
      ]
    },
    {
      "cell_type": "code",
      "metadata": {
        "id": "0RMuNrOmpEmE",
        "colab": {
          "base_uri": "https://localhost:8080/"
        },
        "outputId": "58e2b22b-ab36-4d98-b541-60d712495025"
      },
      "source": [
        "with h5py.File(r\"binomialclass.h5\", \"r\") as f:\n",
        "    # List all groups\n",
        "    print(\"Keys: %s\" % f.keys())\n",
        "    a_group_key = list(f.keys())[0]\n",
        "\n",
        "    # Get the data\n",
        "    wayu = list(f[a_group_key])"
      ],
      "execution_count": 10,
      "outputs": [
        {
          "output_type": "stream",
          "name": "stdout",
          "text": [
            "Keys: <KeysViewHDF5 ['class']>\n"
          ]
        }
      ]
    },
    {
      "cell_type": "code",
      "metadata": {
        "id": "_oS6QQ8onjcA",
        "colab": {
          "base_uri": "https://localhost:8080/"
        },
        "outputId": "a5748e43-b27c-43c4-ace6-dca6fae7ae92"
      },
      "source": [
        "raw_arr = np.array(data)\n",
        "target = np.array(wayu)\n",
        "print(raw_arr.shape)\n",
        "print(target.shape)\n"
      ],
      "execution_count": 11,
      "outputs": [
        {
          "output_type": "stream",
          "name": "stdout",
          "text": [
            "(109463, 450, 11)\n",
            "(109463,)\n"
          ]
        }
      ]
    },
    {
      "cell_type": "code",
      "metadata": {
        "id": "lXCFXUr9SU8q"
      },
      "source": [
        "values, counts =  np.unique(target, return_counts=True)\n",
        "itemindex = np.where(target == 0)\n",
        "itemindex1 = np.where(target == 1)\n",
        "\n",
        "valmin =  min(counts)\n",
        "valmax =  max(counts)\n",
        "dif =  valmax-valmin\n",
        "b =  np.random.choice(itemindex1[0],dif,replace=False)\n"
      ],
      "execution_count": 12,
      "outputs": []
    },
    {
      "cell_type": "code",
      "metadata": {
        "id": "3UaTByrqyAnR",
        "colab": {
          "base_uri": "https://localhost:8080/"
        },
        "outputId": "634fd720-22ce-43fa-b253-db15b1753bbe"
      },
      "source": [
        "\n",
        "raw_arr = np.delete(raw_arr, b, axis=0)\n",
        "target = np.delete(target,b, axis = 0)\n",
        "print(raw_arr.shape)\n",
        "print(target.shape)\n"
      ],
      "execution_count": 13,
      "outputs": [
        {
          "output_type": "stream",
          "name": "stdout",
          "text": [
            "(65346, 450, 11)\n",
            "(65346,)\n"
          ]
        }
      ]
    },
    {
      "cell_type": "code",
      "metadata": {
        "id": "b2X-qPjQqzgt",
        "colab": {
          "base_uri": "https://localhost:8080/"
        },
        "outputId": "ded31fd0-a246-4f1a-cc36-346e71c0563e"
      },
      "source": [
        "raw_arr =  raw_arr.transpose(0,2,1)\n",
        "print(raw_arr.shape)\n",
        "\n"
      ],
      "execution_count": 14,
      "outputs": [
        {
          "output_type": "stream",
          "name": "stdout",
          "text": [
            "(65346, 11, 450)\n"
          ]
        }
      ]
    },
    {
      "cell_type": "code",
      "metadata": {
        "id": "0yNYLQDHCpNa"
      },
      "source": [
        "def create_datasets(data, target, train_size, valid_pct=0.1, seed=None):\n",
        "    \"\"\"Converts NumPy arrays into PyTorch datsets.\n",
        "    \n",
        "    Three datasets are created in total:\n",
        "        * training dataset\n",
        "        * validation dataset\n",
        "        * testing (un-labelled) dataset\n",
        "\n",
        "    \"\"\"\n",
        "    #raw, fft = data\n",
        "    #assert len(raw) == len(fft)\n",
        "    raw = data\n",
        "    sz = train_size\n",
        "    idx = np.arange(sz)\n",
        "    trn_idx, val_idx = train_test_split(\n",
        "        idx, test_size=valid_pct, random_state=RANDOM_SEED)\n",
        "    trn_ds = TensorDataset(\n",
        "        torch.tensor(raw[:sz][trn_idx]).float(), \n",
        "        #torch.tensor(fft[:sz][trn_idx]).float(), \n",
        "        torch.tensor(target[:sz][trn_idx]).long())\n",
        "    val_ds = TensorDataset(\n",
        "        torch.tensor(raw[:sz][val_idx]).float(), \n",
        "        #torch.tensor(fft[:sz][val_idx]).float(), \n",
        "        torch.tensor(target[:sz][val_idx]).long())\n",
        "    tst_ds = TensorDataset(\n",
        "        torch.tensor(raw[sz:]).float(), \n",
        "        #torch.tensor(fft[sz:]).float(), \n",
        "        torch.tensor(target[sz:]).long())\n",
        "    return trn_ds, val_ds, tst_ds"
      ],
      "execution_count": 15,
      "outputs": []
    },
    {
      "cell_type": "code",
      "metadata": {
        "id": "4EHu4QdKCskU"
      },
      "source": [
        "def create_loaders(data, bs=128, jobs=0):\n",
        "    \"\"\"Wraps the datasets returned by create_datasets function with data loaders.\"\"\"\n",
        "    \n",
        "    trn_ds, val_ds, tst_ds = data\n",
        "    trn_dl = DataLoader(trn_ds, batch_size=bs, shuffle=True, num_workers=jobs)\n",
        "    val_dl = DataLoader(val_ds, batch_size=bs, shuffle=False, num_workers=jobs)\n",
        "    tst_dl = DataLoader(tst_ds, batch_size=bs, shuffle=False, num_workers=jobs)\n",
        "    return trn_dl, val_dl, tst_dl\n"
      ],
      "execution_count": 16,
      "outputs": []
    },
    {
      "cell_type": "code",
      "metadata": {
        "id": "1hEIc_czaloR",
        "colab": {
          "base_uri": "https://localhost:8080/"
        },
        "outputId": "1fcaca65-8f17-41d4-f6b7-915e1d8e4d7d"
      },
      "source": [
        "raw_feat = raw_arr.shape[1]\n",
        "print(raw_feat)"
      ],
      "execution_count": 17,
      "outputs": [
        {
          "output_type": "stream",
          "name": "stdout",
          "text": [
            "11\n"
          ]
        }
      ]
    },
    {
      "cell_type": "code",
      "metadata": {
        "id": "VyHE5i3Xg60o"
      },
      "source": [
        "trn_sz = round(len(raw_arr)*.7)\n",
        " # only the first `trn_sz` rows in each array include labelled data\n",
        "datasets = create_datasets(raw_arr,target, trn_sz, seed=RANDOM_SEED)\n",
        "trn_da, val_da, tst_da = datasets\n",
        "device = torch.device('cuda:0' if torch.cuda.is_available() else 'cpu')\n",
        "\n"
      ],
      "execution_count": 18,
      "outputs": []
    },
    {
      "cell_type": "code",
      "metadata": {
        "id": "NaaXGU0jnlwI"
      },
      "source": [
        "#raw_feat = raw_arr.shape[2]\n",
        "#fft_feat = fft_arr.shape[1]\n",
        "\n",
        "trn_dl, val_dl, tst_dl = create_loaders(datasets,bs=256)"
      ],
      "execution_count": 19,
      "outputs": []
    },
    {
      "cell_type": "code",
      "metadata": {
        "id": "tqe5BGnIZZ06",
        "colab": {
          "base_uri": "https://localhost:8080/"
        },
        "outputId": "ed45db0a-b435-4ad3-d9d0-710679508e00"
      },
      "source": [
        "torch.cuda.is_available()\n"
      ],
      "execution_count": 20,
      "outputs": [
        {
          "output_type": "execute_result",
          "data": {
            "text/plain": [
              "True"
            ]
          },
          "metadata": {},
          "execution_count": 20
        }
      ]
    },
    {
      "cell_type": "markdown",
      "metadata": {
        "id": "9h8Vjyl9xyk6"
      },
      "source": [
        "## ReadDatasets\n"
      ]
    },
    {
      "cell_type": "code",
      "metadata": {
        "id": "5MzIfsXqKEgk"
      },
      "source": [
        "##########################\n",
        "### SETTINGS\n",
        "##########################\n",
        "\n",
        "RANDOM_SEED = 123\n",
        "BATCH_SIZE = 256\n",
        "NUM_EPOCHS = 50"
      ],
      "execution_count": 7,
      "outputs": []
    },
    {
      "cell_type": "code",
      "metadata": {
        "id": "zNTGtKIXKEgk"
      },
      "source": [
        "set_all_seeds(RANDOM_SEED)\n",
        "#set_deterministic()"
      ],
      "execution_count": 8,
      "outputs": []
    },
    {
      "cell_type": "code",
      "metadata": {
        "id": "JpQJZ6GOKEgl",
        "colab": {
          "base_uri": "https://localhost:8080/"
        },
        "outputId": "7c040a05-3be9-42d0-f8c2-cb91d2458f72"
      },
      "source": [
        "import h5py\n",
        "\n",
        "\n",
        "with h5py.File(r\"dataBaselinecut100.h5\", \"r\") as f:\n",
        "#with h5py.File(r\"dataBaselinecut1000.h5\", \"r\") as f:\n",
        "    # List all groups\n",
        "    print(\"Keys: %s\" % f.keys())\n",
        "    a_group_key = list(f.keys())[0]\n",
        "\n",
        "    # Get the data\n",
        "    data = list(f[a_group_key])\n",
        "\n",
        "\n"
      ],
      "execution_count": 9,
      "outputs": [
        {
          "output_type": "stream",
          "name": "stdout",
          "text": [
            "Keys: <KeysViewHDF5 ['EEG']>\n"
          ]
        }
      ]
    },
    {
      "cell_type": "code",
      "metadata": {
        "id": "CedTuyEL-BIz",
        "colab": {
          "base_uri": "https://localhost:8080/"
        },
        "outputId": "114fb794-a9a7-4fd7-dfbd-6947795c3f00"
      },
      "source": [
        "with h5py.File(r\"multiclass.h5\", \"r\") as f:\n",
        "    # List all groups\n",
        "    print(\"Keys: %s\" % f.keys())\n",
        "    a_group_key = list(f.keys())[0]\n",
        "\n",
        "    # Get the data\n",
        "    wayu = list(f[a_group_key])"
      ],
      "execution_count": 10,
      "outputs": [
        {
          "output_type": "stream",
          "name": "stdout",
          "text": [
            "Keys: <KeysViewHDF5 ['class']>\n"
          ]
        }
      ]
    },
    {
      "cell_type": "code",
      "metadata": {
        "id": "Qu8oSybXKEgl",
        "colab": {
          "base_uri": "https://localhost:8080/"
        },
        "outputId": "af77e82b-5995-478f-957b-d5255a030649"
      },
      "source": [
        "raw_arr = np.array(data)\n",
        "target = np.array(wayu)\n",
        "print(raw_arr.shape)\n",
        "print(target.shape)\n",
        "values, counts =  np.unique(target, return_counts=True)\n",
        "print(values,counts)\n"
      ],
      "execution_count": 11,
      "outputs": [
        {
          "output_type": "stream",
          "name": "stdout",
          "text": [
            "(109463, 450, 11)\n",
            "(109463,)\n",
            "[0. 1. 2. 3.] [76790 21701  3422  7550]\n"
          ]
        }
      ]
    },
    {
      "cell_type": "code",
      "metadata": {
        "id": "axHpZhiB-BI0"
      },
      "source": [
        "#Erasing classes \n",
        "itemindex1 = np.where(target == 0)\n",
        "itemindex2 = np.where(target == 1)\n",
        "itemindex3 = np.where(target == 3)\n",
        "\n",
        "small =  counts[2]\n",
        "\n",
        "big1 = counts[0]\n",
        "big2 = counts[1]\n",
        "big3 = counts[3]\n",
        "\n",
        "dif1 =  big1-small\n",
        "dif2 =  big2-small\n",
        "dif3 = big3-small\n",
        "\n",
        "b =  np.random.choice(itemindex1[0],dif1,replace=False)\n",
        "b1 =  np.random.choice(itemindex2[0],dif2,replace=False)\n",
        "b2 =  np.random.choice(itemindex3[0],dif3,replace=False)\n",
        "br = np.concatenate((b,b1,b2),0)"
      ],
      "execution_count": 12,
      "outputs": []
    },
    {
      "cell_type": "code",
      "metadata": {
        "id": "F_NLNwoB-BI1",
        "colab": {
          "base_uri": "https://localhost:8080/"
        },
        "outputId": "67490ff4-a70c-4ce1-9707-bf5833daacca"
      },
      "source": [
        "raw_arr = np.delete(raw_arr, br, axis=0)\n",
        "target  = np.delete(target, br, axis=0)\n",
        "values, counts =  np.unique(target, return_counts=True)\n",
        "print(values,counts)\n"
      ],
      "execution_count": 13,
      "outputs": [
        {
          "output_type": "stream",
          "name": "stdout",
          "text": [
            "[0. 1. 2. 3.] [3422 3422 3422 3422]\n"
          ]
        }
      ]
    },
    {
      "cell_type": "code",
      "metadata": {
        "id": "9AbgxcgdKEgm",
        "colab": {
          "base_uri": "https://localhost:8080/",
          "height": 0
        },
        "outputId": "d1e0a3cb-5943-45a7-925a-3de91de228b2"
      },
      "source": [
        "import matplotlib.pyplot as plt\n",
        "\n",
        "plt.bar(values,counts)\n",
        "plt.xticks(values)\n",
        "plt.title('Numbers of each class', fontsize= 22)\n",
        "#plt.savefig('Classes  ')\n",
        "plt.show()\n"
      ],
      "execution_count": 14,
      "outputs": [
        {
          "output_type": "display_data",
          "data": {
            "text/plain": [
              "<Figure size 432x288 with 1 Axes>"
            ],
            "image/png": "[encoded data removed]"
          },
          "metadata": {
            "needs_background": "light"
          }
        }
      ]
    },
    {
      "cell_type": "code",
      "metadata": {
        "id": "L1hb_c0TKEgm",
        "colab": {
          "base_uri": "https://localhost:8080/"
        },
        "outputId": "a49d741b-9f4f-43d2-9cbe-9e488b699cf0"
      },
      "source": [
        "raw_arr =  raw_arr.transpose(0,2,1)\n",
        "print(raw_arr.shape)\n",
        "print(target.shape)\n"
      ],
      "execution_count": 15,
      "outputs": [
        {
          "output_type": "stream",
          "name": "stdout",
          "text": [
            "(13688, 11, 450)\n",
            "(13688,)\n"
          ]
        }
      ]
    },
    {
      "cell_type": "code",
      "metadata": {
        "id": "5KpaYn9KKEgo"
      },
      "source": [
        "def create_datasets(data, target, train_size, valid_pct=0.1, seed=None):\n",
        "    \"\"\"Converts NumPy arrays into PyTorch datsets.\n",
        "    \n",
        "    Three datasets are created in total:\n",
        "        * training dataset\n",
        "        * validation dataset\n",
        "        * testing (un-labelled) dataset\n",
        "\n",
        "    \"\"\"\n",
        "    #raw, fft = data\n",
        "    #assert len(raw) == len(fft)\n",
        "    raw = data\n",
        "    sz = train_size\n",
        "    idx = np.arange(sz)\n",
        "    trn_idx, val_idx = train_test_split(\n",
        "        idx, test_size=valid_pct, random_state=RANDOM_SEED)\n",
        "    trn_ds = TensorDataset(\n",
        "        torch.tensor(raw[:sz][trn_idx]).float(), \n",
        "        #torch.tensor(fft[:sz][trn_idx]).float(), \n",
        "        torch.tensor(target[:sz][trn_idx]).long())\n",
        "    val_ds = TensorDataset(\n",
        "        torch.tensor(raw[:sz][val_idx]).float(), \n",
        "        #torch.tensor(fft[:sz][val_idx]).float(), \n",
        "        torch.tensor(target[:sz][val_idx]).long())\n",
        "    tst_ds = TensorDataset(\n",
        "        torch.tensor(raw[sz:]).float(), \n",
        "        #torch.tensor(fft[sz:]).float(), \n",
        "        torch.tensor(target[sz:]).long())\n",
        "    return trn_ds, val_ds, tst_ds"
      ],
      "execution_count": 16,
      "outputs": []
    },
    {
      "cell_type": "code",
      "metadata": {
        "id": "apfHs20hKEgo"
      },
      "source": [
        "def create_loaders(data, bs=128, jobs=0):\n",
        "    \"\"\"Wraps the datasets returned by create_datasets function with data loaders.\"\"\"\n",
        "    \n",
        "    trn_ds, val_ds, tst_ds = data\n",
        "    trn_dl = DataLoader(trn_ds, batch_size=bs, shuffle=True, num_workers=jobs)\n",
        "    val_dl = DataLoader(val_ds, batch_size=bs, shuffle=False, num_workers=jobs)\n",
        "    tst_dl = DataLoader(tst_ds, batch_size=bs, shuffle=False, num_workers=jobs)\n",
        "    return trn_dl, val_dl, tst_dl\n"
      ],
      "execution_count": 17,
      "outputs": []
    },
    {
      "cell_type": "code",
      "metadata": {
        "id": "KYy9SO-oKEgo",
        "colab": {
          "base_uri": "https://localhost:8080/"
        },
        "outputId": "f7df4862-2b55-4d12-d14d-dd9eef09cf65"
      },
      "source": [
        "raw_feat = raw_arr.shape[1]\n",
        "print(raw_feat)"
      ],
      "execution_count": 18,
      "outputs": [
        {
          "output_type": "stream",
          "name": "stdout",
          "text": [
            "11\n"
          ]
        }
      ]
    },
    {
      "cell_type": "code",
      "metadata": {
        "id": "8HqrHzK6KEgo"
      },
      "source": [
        "trn_sz = round(len(raw_arr)*.7)\n",
        " # only the first `trn_sz` rows in each array include labelled data\n",
        "datasets = create_datasets(raw_arr,target, trn_sz, seed=RANDOM_SEED)\n",
        "#trn_da, val_da, tst_da = create_datasets(alfa,beta, trn_sz, seed=RANDOM_SEED)\n",
        "\n",
        "#This line selects the device you want to use for computing \n",
        "device = torch.device('cuda:0' if torch.cuda.is_available() else 'cpu')\n",
        "\n"
      ],
      "execution_count": 19,
      "outputs": []
    },
    {
      "cell_type": "code",
      "metadata": {
        "id": "7_7fQuzjKEgp"
      },
      "source": [
        "#raw_feat = raw_arr.shape[2]\n",
        "#fft_feat = fft_arr.shape[1]\n",
        "\n",
        "trn_dl, val_dl, tst_dl = create_loaders(datasets,bs=256)"
      ],
      "execution_count": 20,
      "outputs": []
    },
    {
      "cell_type": "code",
      "metadata": {
        "id": "RqYtGSVXw88I",
        "colab": {
          "base_uri": "https://localhost:8080/"
        },
        "outputId": "f84e241b-579a-4c26-a9f4-4051dd79fed0"
      },
      "source": [
        "torch.cuda.is_available()\n"
      ],
      "execution_count": 21,
      "outputs": [
        {
          "output_type": "execute_result",
          "data": {
            "text/plain": [
              "True"
            ]
          },
          "metadata": {},
          "execution_count": 21
        }
      ]
    },
    {
      "cell_type": "markdown",
      "metadata": {
        "id": "USZyeknBTqUc"
      },
      "source": [
        "# Model"
      ]
    },
    {
      "cell_type": "code",
      "metadata": {
        "id": "YYx8-483rHKy"
      },
      "source": [
        "\n",
        "def conv3x3(in_planes, out_planes, stride=1, groups=1, dilation=1):\n",
        "    \"\"\"3x3 convolution with padding\"\"\"\n",
        "    return torch.nn.Conv1d(in_planes, out_planes, kernel_size=3, stride=stride,\n",
        "                     padding=dilation, groups=groups, bias=False, dilation=dilation)\n",
        "\n",
        "\n",
        "def conv1x1(in_planes, out_planes, stride=1):\n",
        "    \"\"\"1x1 convolution\"\"\"\n",
        "    return torch.nn.Conv1d(in_planes, out_planes, kernel_size=1, stride=stride, bias=False)\n",
        "\n",
        "\n",
        "class BasicBlock(torch.nn.Module):\n",
        "    expansion: int = 1\n",
        "\n",
        "    def __init__(self, inplanes, planes, stride=1, downsample=None,\n",
        "                 groups=1, base_width=64, dilation=1, norm_layer=None):\n",
        "        \n",
        "        super().__init__()\n",
        "        if norm_layer is None:\n",
        "            norm_layer = torch.nn.BatchNorm1d\n",
        "        if groups != 1 or base_width != 64:\n",
        "            raise ValueError('BasicBlock only supports groups=1 and base_width=64')\n",
        "        if dilation > 1:\n",
        "            raise NotImplementedError(\"Dilation > 1 not supported in BasicBlock\")\n",
        "        # Both self.conv1 and self.downsample layers downsample the input when stride != 1\n",
        "        self.conv1 = conv3x3(inplanes, planes, stride)\n",
        "        self.bn1 = norm_layer(planes)\n",
        "        self.relu = torch.nn.ReLU(inplace=True)\n",
        "        self.conv2 = conv3x3(planes, planes)\n",
        "        self.bn2 = norm_layer(planes)\n",
        "        self.downsample = downsample\n",
        "        self.stride = stride\n",
        "\n",
        "    def forward(self, x):\n",
        "        identity = x\n",
        "\n",
        "        out = self.conv1(x)\n",
        "        out = self.bn1(out)\n",
        "        out = self.relu(out)\n",
        "\n",
        "        out = self.conv2(out)\n",
        "        out = self.bn2(out)\n",
        "\n",
        "        if self.downsample is not None:\n",
        "            identity = self.downsample(x)\n",
        "\n",
        "        out += identity\n",
        "        out = self.relu(out)\n",
        "\n",
        "        return out\n",
        "\n",
        "\n",
        "class Bottleneck(torch.nn.Module):\n",
        "    # Bottleneck in torchvision places the stride for downsampling at 3x3 convolution(self.conv2)\n",
        "    # while original implementation places the stride at the first 1x1 convolution(self.conv1)\n",
        "    # according to \"Deep residual learning for image recognition\"https://arxiv.org/abs/1512.03385.\n",
        "    # This variant is also known as ResNet V1.5 and improves accuracy according to\n",
        "    # https://ngc.nvidia.com/catalog/model-scripts/nvidia:resnet_50_v1_5_for_pytorch.\n",
        "\n",
        "    expansion=4\n",
        "\n",
        "    def __init__(self, inplanes, planes, stride=1, downsample=None,\n",
        "                 groups=1, base_width=64, dilation=1, norm_layer=None):\n",
        "        \n",
        "        super().__init__()\n",
        "        if norm_layer is None:\n",
        "            norm_layer = torch.nn.BatchNorm1d\n",
        "        width = int(planes * (base_width / 64.)) * groups\n",
        "        # Both self.conv2 and self.downsample layers downsample the input when stride != 1\n",
        "        self.conv1 = conv1x1(inplanes, width)\n",
        "        self.bn1 = norm_layer(width)\n",
        "        self.conv2 = conv3x3(width, width, stride, groups, dilation)\n",
        "        self.bn2 = norm_layer(width)\n",
        "        self.conv3 = conv1x1(width, planes * self.expansion)\n",
        "        self.bn3 = norm_layer(planes * self.expansion)\n",
        "        self.relu = torch.nn.ReLU(inplace=True)\n",
        "        self.downsample = downsample\n",
        "        self.stride = stride\n",
        "\n",
        "    def forward(self, x):\n",
        "        identity = x\n",
        "\n",
        "        out = self.conv1(x)\n",
        "        out = self.bn1(out)\n",
        "        out = self.relu(out)\n",
        "\n",
        "        out = self.conv2(out)\n",
        "        out = self.bn2(out)\n",
        "        out = self.relu(out)\n",
        "\n",
        "        out = self.conv3(out)\n",
        "        out = self.bn3(out)\n",
        "\n",
        "        if self.downsample is not None:\n",
        "            identity = self.downsample(x)\n",
        "\n",
        "        out += identity\n",
        "        out = self.relu(out)\n",
        "\n",
        "        return out\n",
        "\n",
        "\n",
        "class ResNet(torch.nn.Module):\n",
        "\n",
        "    def __init__(self, block, layers, num_classes, zero_init_residual=False, groups=1,\n",
        "                 width_per_group=64, replace_stride_with_dilation=None, norm_layer=None):\n",
        "        \n",
        "        super().__init__()\n",
        "        if norm_layer is None:\n",
        "            norm_layer = torch.nn.BatchNorm1d\n",
        "        self._norm_layer = norm_layer\n",
        "\n",
        "        self.inplanes = 64\n",
        "        self.dilation = 1\n",
        "        if replace_stride_with_dilation is None:\n",
        "            # each element in the tuple indicates if we should replace\n",
        "            # the 2x2 stride with a dilated convolution instead\n",
        "            replace_stride_with_dilation = [False, False, False]\n",
        "        if len(replace_stride_with_dilation) != 3:\n",
        "            raise ValueError(\"replace_stride_with_dilation should be None \"\n",
        "                             \"or a 3-element tuple, got {}\".format(replace_stride_with_dilation))\n",
        "        self.groups = groups\n",
        "        self.base_width = width_per_group\n",
        "        self.conv1 = torch.nn.Conv1d(11, self.inplanes, kernel_size=7, stride=2, padding=3,\n",
        "                                     bias=False)\n",
        "        self.bn1 = norm_layer(self.inplanes)\n",
        "        self.relu = torch.nn.ReLU(inplace=True)\n",
        "        self.maxpool = torch.nn.MaxPool1d(kernel_size=3, stride=2, padding=1)\n",
        "        self.layer1 = self._make_layer(block, 64, layers[0])\n",
        "        self.layer2 = self._make_layer(block, 128, layers[1], stride=2,\n",
        "                                       dilate=replace_stride_with_dilation[0])\n",
        "        self.layer3 = self._make_layer(block, 256, layers[2], stride=2,\n",
        "                                       dilate=replace_stride_with_dilation[1])\n",
        "        self.layer4 = self._make_layer(block, 512, layers[3], stride=2,\n",
        "                                       dilate=replace_stride_with_dilation[2])\n",
        "        self.avgpool = torch.nn.AdaptiveAvgPool1d(1)\n",
        "        self.fc = torch.nn.Linear(512 * block.expansion, num_classes)\n",
        "\n",
        "        for m in self.modules():\n",
        "            if isinstance(m, torch.nn.Conv1d):\n",
        "                torch.nn.init.kaiming_normal_(m.weight, mode='fan_out', nonlinearity='relu')\n",
        "            elif isinstance(m, (torch.nn.BatchNorm1d, torch.nn.GroupNorm)):\n",
        "                torch.nn.init.constant_(m.weight, 1)\n",
        "                torch.nn.init.constant_(m.bias, 0)\n",
        "\n",
        "        # Zero-initialize the last BN in each residual branch,\n",
        "        # so that the residual branch starts with zeros, and each residual block behaves like an identity.\n",
        "        # This improves the model by 0.2~0.3% according to https://arxiv.org/abs/1706.02677\n",
        "        if zero_init_residual:\n",
        "            for m in self.modules():\n",
        "                if isinstance(m, Bottleneck):\n",
        "                    torch.nn.init.constant_(m.bn3.weight, 0)\n",
        "                elif isinstance(m, BasicBlock):\n",
        "                    torch.nn.init.constant_(m.bn2.weight, 0)\n",
        "\n",
        "    def _make_layer(self, block, planes, blocks,\n",
        "                    stride=1, dilate=False):\n",
        "        norm_layer = self._norm_layer\n",
        "        downsample = None\n",
        "        previous_dilation = self.dilation\n",
        "        if dilate:\n",
        "            self.dilation *= stride\n",
        "            stride = 1\n",
        "        if stride != 1 or self.inplanes != planes * block.expansion:\n",
        "            downsample = torch.nn.Sequential(\n",
        "                conv1x1(self.inplanes, planes * block.expansion, stride),\n",
        "                norm_layer(planes * block.expansion),\n",
        "            )\n",
        "\n",
        "        layers = []\n",
        "        layers.append(block(self.inplanes, planes, stride, downsample, self.groups,\n",
        "                            self.base_width, previous_dilation, norm_layer))\n",
        "        self.inplanes = planes * block.expansion\n",
        "        for _ in range(1, blocks):\n",
        "            layers.append(block(self.inplanes, planes, groups=self.groups,\n",
        "                                base_width=self.base_width, dilation=self.dilation,\n",
        "                                norm_layer=norm_layer))\n",
        "\n",
        "        return torch.nn.Sequential(*layers)\n",
        "\n",
        "    def forward(self, x):\n",
        "        x = self.conv1(x)\n",
        "        x = self.bn1(x)\n",
        "        x = self.relu(x)\n",
        "        x = self.maxpool(x)\n",
        "\n",
        "        x = self.layer1(x)\n",
        "        x = self.layer2(x)\n",
        "        x = self.layer3(x)\n",
        "        x = self.layer4(x)\n",
        "\n",
        "        x = self.avgpool(x)\n",
        "        x = torch.flatten(x, 1)\n",
        "        x = self.fc(x)\n",
        "        return x"
      ],
      "execution_count": 22,
      "outputs": []
    },
    {
      "cell_type": "markdown",
      "metadata": {
        "id": "4aNJGQX-fvad"
      },
      "source": [
        "# OwnResnet\n"
      ]
    },
    {
      "cell_type": "code",
      "metadata": {
        "id": "IrnTXO_vgENh"
      },
      "source": [
        "# class ResidualBlock(torch.nn.Module):\n",
        "#     \"\"\" Helper Class\"\"\"\n",
        "\n",
        "#     def __init__(self, channels):\n",
        "        \n",
        "#         super(ResidualBlock, self).__init__()\n",
        "        \n",
        "#         self.block = nn.Sequential(\n",
        "#                 nn.Conv1d(in_channels=channels[0],\n",
        "#                                 out_channels=channels[1],\n",
        "#                                 kernel_size=3,\n",
        "#                                 stride=2,\n",
        "#                                 padding=1),\n",
        "#                 nn.BatchNorm1d(channels[1]),\n",
        "#                 nn.ReLU(inplace = True),\n",
        "#                 nn.Conv1d(in_channels=channels[1],\n",
        "#                                 out_channels=channels[2],\n",
        "#                                 kernel_size=1,\n",
        "#                                 stride=1,\n",
        "#                                 padding=0),   \n",
        "#                 nn.BatchNorm1d(channels[2])\n",
        "#         )\n",
        "\n",
        "#         self.shortcut = nn.Sequential(\n",
        "#                 nn.Conv1d(in_channels=channels[0],\n",
        "#                                 out_channels=channels[2],\n",
        "#                                 kernel_size=1,\n",
        "#                                 stride=2,\n",
        "#                                 padding=0),\n",
        "#                 nn.BatchNorm1d(channels[2])\n",
        "#         )\n",
        "            \n",
        "#     def forward(self, x):\n",
        "#         shortcut = x\n",
        "#         block = self.block(x)\n",
        "#         shortcut = self.shortcut(x)    \n",
        "#         x = F.relu(block+shortcut)\n",
        "\n",
        "#         return x"
      ],
      "execution_count": 35,
      "outputs": []
    },
    {
      "cell_type": "code",
      "metadata": {
        "id": "1etZPjsCgENh"
      },
      "source": [
        "# class Classifier(nn.Module):\n",
        "#     def __init__(self, raw_ni, no, drop=.5):\n",
        "#         super(Classifier,self).__init__()\n",
        "\n",
        "#         self.conv1 = nn.Conv1d(in_channels=raw_ni, out_channels=16, kernel_size=3, padding=2)\n",
        "#         self.maxpool = nn.MaxPool1d(kernel_size=3, stride=2)\n",
        "#         #256, 16, 226\n",
        "\n",
        "\n",
        "#         self.res1 = ResidualBlock(channels=[16, 20, 24])\n",
        "#         self.res2 = ResidualBlock(channels=[24, 28, 32])\n",
        "#         self.res3 = ResidualBlock(channels=[32, 36, 40])\n",
        "#         self.res4 = ResidualBlock(channels=[40, 44, 48])\n",
        "#         self.res5 = ResidualBlock(channels=[48, 52, 56])\n",
        "        \n",
        "#         self.avgpool = nn.AvgPool1d(kernel_size=2, stride=2, padding = 1)\n",
        "\n",
        "#         #self.flats = Flatten()\n",
        "\n",
        "#         self.fc1 = nn.Linear(280,140)\n",
        "#         self.fc2 = nn.Linear(140,no)\n",
        "#         #self.fc3 = nn.Linear(70,35)\n",
        "#         #self.fc4 = nn.Linear(35,no)\n",
        "  \n",
        "#     def forward(self,x):\n",
        "\n",
        "#         x = F.relu(self.conv1(x))\n",
        "#         x = (self.maxpool(x))\n",
        "\n",
        "#         x = self.res1(x)\n",
        "#         x = self.res2(x)\n",
        "#         x = self.res3(x)\n",
        "#         x = self.res4(x)\n",
        "#         x = self.res5(x)\n",
        "    \n",
        "#         x = self.avgpool(x)\n",
        "  \t    \n",
        "#         x = torch.flatten(x, 1)\n",
        "#         #x = self.flats(x)\n",
        "#         #x = x.flatten(1) # flatten the tensor starting at dimension 1\n",
        "\n",
        "#         x = F.relu(self.fc1(x))\n",
        "#         #x = F.relu(self.fc2(x))\n",
        "#         #x = F.relu(self.fc3(x))\n",
        "#         x = self.fc2(x)\n",
        "\n",
        "#         return x\n",
        "\n",
        "    "
      ],
      "execution_count": 36,
      "outputs": []
    },
    {
      "cell_type": "code",
      "metadata": {
        "id": "sSfngYNGhYMX"
      },
      "source": [
        "class ResidualBlock(torch.nn.Module):\n",
        "    \"\"\" Helper Class\"\"\"\n",
        "\n",
        "    def __init__(self, channels):\n",
        "        \n",
        "        super(ResidualBlock, self).__init__()\n",
        "        \n",
        "        self.block = nn.Sequential(\n",
        "                nn.Conv1d(in_channels=channels[0],\n",
        "                                out_channels=channels[1],\n",
        "                                kernel_size=3,\n",
        "                                stride=2,\n",
        "                                padding=1),\n",
        "                nn.BatchNorm1d(channels[1]),\n",
        "                nn.ReLU(inplace = True),\n",
        "                nn.Conv1d(in_channels=channels[1],\n",
        "                                out_channels=channels[2],\n",
        "                                kernel_size=1,\n",
        "                                stride=1,\n",
        "                                padding=0),   \n",
        "                nn.BatchNorm1d(channels[2])\n",
        "        )\n",
        "\n",
        "        self.shortcut = nn.Sequential(\n",
        "                nn.Conv1d(in_channels=channels[0],\n",
        "                                out_channels=channels[2],\n",
        "                                kernel_size=1,\n",
        "                                stride=2,\n",
        "                                padding=0),\n",
        "                nn.BatchNorm1d(channels[2])\n",
        "        )\n",
        "            \n",
        "    def forward(self, x):\n",
        "        shortcut = x\n",
        "        block = self.block(x)\n",
        "        shortcut = self.shortcut(x)    \n",
        "        x = F.relu(block+shortcut)\n",
        "\n",
        "        return x"
      ],
      "execution_count": 37,
      "outputs": []
    },
    {
      "cell_type": "code",
      "metadata": {
        "id": "CGRTPvZHsMLh"
      },
      "source": [
        "class Classifier(nn.Module):\n",
        "    def __init__(self, raw_ni, no, drop=.5):\n",
        "        super(Classifier,self).__init__()\n",
        "\n",
        "        self.conv1 = nn.Conv1d(in_channels=raw_ni, out_channels=16, kernel_size=3, padding=2)\n",
        "        self.maxpool = nn.MaxPool1d(kernel_size=3, stride=2)\n",
        "        #256, 16, 226\n",
        "\n",
        "\n",
        "        self.res1 = ResidualBlock(channels=[16, 20, 24])\n",
        "        self.res2 = ResidualBlock(channels=[24, 28, 32])\n",
        "        self.res3 = ResidualBlock(channels=[32, 36, 40])\n",
        "        self.res4 = ResidualBlock(channels=[40, 44, 48])\n",
        "        self.res5 = ResidualBlock(channels=[48, 52, 56])\n",
        "        \n",
        "        self.avgpool = nn.AvgPool1d(kernel_size=2, stride=2, padding = 1)\n",
        "\n",
        "        self.flats = Flatten()\n",
        "\n",
        "        self.liner = nn.Sequential(\n",
        "            nn.Dropout(drop),nn.Linear(280,140), nn.PReLU(), nn.BatchNorm1d(140),\n",
        "            nn.Dropout(drop),nn.Linear(140,70),nn.PReLU(),nn.BatchNorm1d(70))\n",
        "        \n",
        "        self.Out = nn.Sequential(\n",
        "            nn.Linear(70,35), nn.ReLU(inplace=True), nn.Linear(35, no))\n",
        "        \n",
        "        \n",
        "        #self.fc1 = nn.Linear(280,140)\n",
        "        #self.fc2 = nn.Linear(140,no)\n",
        "        #self.fc3 = nn.Linear(70,35)\n",
        "        #self.fc4 = nn.Linear(35,no)\n",
        "  \n",
        "    def forward(self,x):\n",
        "\n",
        "        x = F.relu(self.conv1(x))\n",
        "        x = (self.maxpool(x))\n",
        "\n",
        "        x = self.res1(x)\n",
        "        x = self.res2(x)\n",
        "        x = self.res3(x)\n",
        "        x = self.res4(x)\n",
        "        x = self.res5(x)\n",
        "    \n",
        "        x = self.avgpool(x)\n",
        "\n",
        "        x = torch.flatten(x, 1)\n",
        "        #x = self.flats(x)\n",
        "\n",
        "        \n",
        "        x = self.liner(x)\n",
        "        x = self.Out(x)\n",
        "\n",
        "        return x\n",
        "\n",
        "    "
      ],
      "execution_count": 38,
      "outputs": []
    },
    {
      "cell_type": "markdown",
      "metadata": {
        "id": "11rhZnY6n_kD"
      },
      "source": [
        "# Simple CNN\n"
      ]
    },
    {
      "cell_type": "code",
      "metadata": {
        "id": "XmxXA4QBoObu"
      },
      "source": [
        "class Flatten(nn.Module):\n",
        "    \"\"\"Converts N-dimensional tensor into 'flat' one.\"\"\"\n",
        "\n",
        "    def __init__(self, keep_batch_dim=True):\n",
        "        super().__init__()\n",
        "        self.keep_batch_dim = keep_batch_dim\n",
        "\n",
        "    def forward(self, x):\n",
        "        if self.keep_batch_dim:        \n",
        "            return x.view(x.size(0), -1)\n",
        "        return x.view(-1)"
      ],
      "execution_count": 22,
      "outputs": []
    },
    {
      "cell_type": "code",
      "metadata": {
        "id": "1gQ04xVmHnTk"
      },
      "source": [
        "class Classifier1(nn.Module):\n",
        "    def __init__(self, raw_ni, no, drop=.5):\n",
        "        super().__init__()\n",
        "\n",
        "\n",
        "       \n",
        "        # [B, C1, 450]\n",
        "        self.maxpool = nn.MaxPool1d(kernel_size=3, stride=2)\n",
        "        \n",
        "        self.maxpool1 = nn.MaxPool1d(kernel_size=2, stride=2,padding=1)\n",
        "        \n",
        "        self.maxpool2 = nn.MaxPool1d(kernel_size=2, stride=3)\n",
        "        \n",
        "      \n",
        "        self.conv1 = nn.Conv1d(in_channels=raw_ni, out_channels=11, kernel_size=3, padding=2)   \n",
        "        self.conv2 = nn.Conv1d(11,10, kernel_size=3, padding=2)\n",
        "        self.conv3 = nn.Conv1d(10,9, kernel_size=3, padding=3)\n",
        "        self.conv4 = nn.Conv1d(9,8, kernel_size=3, padding=1)\n",
        "        self.conv5 = nn.Conv1d(8,7, kernel_size=3, padding=1)\n",
        "        self.conv6 = nn.Conv1d(7,6, kernel_size=3, padding=1)\n",
        "        \n",
        "\n",
        "\n",
        "        self.Flat =  Flatten()\n",
        "        # [B, C2, 6]\n",
        "        self.fc1 = nn.Linear(36,18)\n",
        "        # [B, F1]\n",
        "        self.fc2 = nn.Linear(18,9)\n",
        "        # [B, F2]\n",
        "        self.fc3 = nn.Linear(9,no)\n",
        "        #\n",
        "        #self.fc4 = nn.Linear(36,18)\n",
        "        #\n",
        "        #self.fc5 = nn.Linear(18,no)\n",
        "        # [B, 2]\n",
        "\n",
        "    def forward(self,x):\n",
        "        x = F.relu(self.conv1(x))\n",
        "        x = (self.maxpool(x))\n",
        "\n",
        "        x = F.relu(self.conv2(x))\n",
        "        x = self.maxpool1(x)\n",
        "        \n",
        "        x = F.relu(self.conv3(x))\n",
        "        x = self.maxpool(x)\n",
        "      \n",
        "        x = F.relu(self.conv4(x))\n",
        "        x = self.maxpool1(x)\n",
        "        \n",
        "        x = F.relu(self.conv5(x))\n",
        "        x = self.maxpool2(x)\n",
        "        \n",
        "        x = F.relu(self.conv6(x))\n",
        "        x = self.maxpool1(x)\n",
        "\n",
        "        x = self.Flat(x)\n",
        "        #x = x.flatten(1) # flatten the tensor starting at dimension 1\n",
        "\n",
        "        x = F.relu(self.fc1(x))\n",
        "        x = F.relu(self.fc2(x)) \n",
        "        x = self.fc3(x) \n",
        "        #x = F.relu(self.fc4(x))\n",
        "        #x = self.fc5(x)\n",
        "        return x\n",
        "\n",
        "    "
      ],
      "execution_count": 23,
      "outputs": []
    },
    {
      "cell_type": "markdown",
      "metadata": {
        "id": "7pm7KjB4c-8l"
      },
      "source": [
        "# Training"
      ]
    },
    {
      "cell_type": "code",
      "metadata": {
        "id": "Swn-wXlF5kCn"
      },
      "source": [
        "model = ResNet(BasicBlock, layers=[3, 4, 6, 3], num_classes=4)\n",
        "#model = Classifier1(raw_feat,no = 4) # ResNet34\n",
        "#model = Classifier(raw_feat,no = 4) # ResNet34\n",
        "\n",
        "if torch.cuda.device_count() > 1:\n",
        "    print(\"Let's use\", torch.cuda.device_count(), \"GPUs!\")\n",
        "      # dim = 0 [30, xxx] -> [10, ...], [10, ...], [10, ...] on 3 GPUs\n",
        "    model = nn.DataParallel(model)\n",
        "model = model.to(device)\n",
        "\n",
        "optimizer = optim.Adam(model.parameters(),lr = 0.01)\n",
        "criterion = nn.CrossEntropyLoss(reduction='sum')\n",
        "#optimizer = torch.optim.SGD(model.parameters(), momentum=0.9, lr=0.01)\n",
        "scheduler = torch.optim.lr_scheduler.ReduceLROnPlateau(optimizer,\n",
        "                                                       factor=0.1,\n",
        "                                                       mode='max',\n",
        "                                                       verbose=True)"
      ],
      "execution_count": 23,
      "outputs": []
    },
    {
      "cell_type": "code",
      "metadata": {
        "id": "bVMUJfbUO1ty",
        "colab": {
          "base_uri": "https://localhost:8080/",
          "height": 1000
        },
        "outputId": "a2490080-99ee-4b20-bee7-dfb020a3c717"
      },
      "source": [
        "model = ResNet(BasicBlock, layers=[3, 4, 6, 3], num_classes=4)\n",
        "#model = Classifier1(raw_feat,no = 4) # ResNet34\n",
        "#model = Classifier(raw_feat,no = 4) # ResNet34\n",
        "\n",
        "if torch.cuda.device_count() > 1:\n",
        "    print(\"Let's use\", torch.cuda.device_count(), \"GPUs!\")\n",
        "      # dim = 0 [30, xxx] -> [10, ...], [10, ...], [10, ...] on 3 GPUs\n",
        "    model = nn.DataParallel(model)\n",
        "model = model.to(device)\n",
        "\n",
        "optimizer = optim.Adam(model.parameters(),lr = 0.01)\n",
        "criterion = nn.CrossEntropyLoss(reduction='sum')\n",
        "#optimizer = torch.optim.SGD(model.parameters(), momentum=0.9, lr=0.01)\n",
        "scheduler = torch.optim.lr_scheduler.ReduceLROnPlateau(optimizer,\n",
        "                                                       factor=0.1,\n",
        "                                                       mode='max',\n",
        "                                                       verbose=True)\n",
        "\n",
        "minibatch_loss_list, train_acc_list, valid_acc_list = train_model(\n",
        "    model=model,\n",
        "    num_epochs=NUM_EPOCHS,\n",
        "    train_loader=trn_dl,\n",
        "    valid_loader=val_dl,\n",
        "    test_loader=tst_dl,\n",
        "    criterion = criterion,\n",
        "    optimizer=optimizer,\n",
        "    path = r'Resnet34/CNN.pth',\n",
        "    device=device,\n",
        "    scheduler=None,\n",
        "    scheduler_on='valid_acc',\n",
        "    logging_interval=100)\n",
        "\n",
        "plot_training_loss(minibatch_loss_list=minibatch_loss_list,\n",
        "                   num_epochs=NUM_EPOCHS,\n",
        "                   iter_per_epoch=len(trn_dl),\n",
        "                   results_dir=None,\n",
        "                   averaging_iterations=200)\n",
        "plt.show()\n",
        "\n",
        "plot_accuracy(train_acc_list=train_acc_list,\n",
        "              valid_acc_list=valid_acc_list,\n",
        "              results_dir=None)\n",
        "plt.ylim([60, 100])\n",
        "plt.show()"
      ],
      "execution_count": 25,
      "outputs": [
        {
          "output_type": "stream",
          "name": "stdout",
          "text": [
            "Epoch: 001/050 | Batch 0000/0034 | Loss: 361.1354\n",
            "Epoch: 001/050 | Train: 39.12% | Validation: 33.99% | New model saved\n",
            "Time elapsed: 0.34 min\n",
            "Epoch: 002/050 | Batch 0000/0034 | Loss: 323.9802\n",
            "Epoch: 002/050 | Train: 48.01% | Validation: 45.67% | New model saved\n",
            "Time elapsed: 0.68 min\n",
            "Epoch: 003/050 | Batch 0000/0034 | Loss: 291.3418\n",
            "Epoch: 003/050 | Train: 46.07% | Validation: 41.81%\n",
            "Time elapsed: 1.02 min\n",
            "Epoch: 004/050 | Batch 0000/0034 | Loss: 296.5759\n",
            "Epoch: 004/050 | Train: 54.75% | Validation: 50.05% | New model saved\n",
            "Time elapsed: 1.35 min\n",
            "Epoch: 005/050 | Batch 0000/0034 | Loss: 275.9518\n",
            "Epoch: 005/050 | Train: 63.45% | Validation: 59.44% | New model saved\n",
            "Time elapsed: 1.69 min\n",
            "Epoch: 006/050 | Batch 0000/0034 | Loss: 241.4939\n",
            "Epoch: 006/050 | Train: 62.28% | Validation: 60.79% | New model saved\n",
            "Time elapsed: 2.03 min\n",
            "Epoch: 007/050 | Batch 0000/0034 | Loss: 225.4471\n",
            "Epoch: 007/050 | Train: 66.82% | Validation: 62.98% | New model saved\n",
            "Time elapsed: 2.37 min\n",
            "Epoch: 008/050 | Batch 0000/0034 | Loss: 245.1692\n",
            "Epoch: 008/050 | Train: 67.87% | Validation: 63.30% | New model saved\n",
            "Time elapsed: 2.70 min\n",
            "Epoch: 009/050 | Batch 0000/0034 | Loss: 246.1077\n",
            "Epoch: 009/050 | Train: 64.01% | Validation: 61.42%\n",
            "Time elapsed: 3.04 min\n",
            "Epoch: 010/050 | Batch 0000/0034 | Loss: 193.0057\n",
            "Epoch: 010/050 | Train: 69.53% | Validation: 64.13% | New model saved\n",
            "Time elapsed: 3.37 min\n",
            "Epoch: 011/050 | Batch 0000/0034 | Loss: 216.8889\n",
            "Epoch: 011/050 | Train: 70.66% | Validation: 65.48% | New model saved\n",
            "Time elapsed: 3.71 min\n",
            "Epoch: 012/050 | Batch 0000/0034 | Loss: 186.2817\n",
            "Epoch: 012/050 | Train: 69.41% | Validation: 64.86%\n",
            "Time elapsed: 4.04 min\n",
            "Epoch: 013/050 | Batch 0000/0034 | Loss: 213.2990\n",
            "Epoch: 013/050 | Train: 40.77% | Validation: 37.85%\n",
            "Time elapsed: 4.38 min\n",
            "Epoch: 014/050 | Batch 0000/0034 | Loss: 204.2224\n",
            "Epoch: 014/050 | Train: 56.65% | Validation: 54.64%\n",
            "Time elapsed: 4.71 min\n",
            "Epoch: 015/050 | Batch 0000/0034 | Loss: 179.4028\n",
            "Epoch: 015/050 | Train: 71.87% | Validation: 64.13%\n",
            "Time elapsed: 5.05 min\n",
            "Epoch: 016/050 | Batch 0000/0034 | Loss: 225.8906\n",
            "Epoch: 016/050 | Train: 64.90% | Validation: 60.58%\n",
            "Time elapsed: 5.38 min\n",
            "Epoch: 017/050 | Batch 0000/0034 | Loss: 188.1503\n",
            "Epoch: 017/050 | Train: 71.67% | Validation: 65.17%\n",
            "Time elapsed: 5.71 min\n",
            "Epoch: 018/050 | Batch 0000/0034 | Loss: 190.0645\n",
            "Epoch: 018/050 | Train: 71.58% | Validation: 64.65%\n",
            "Time elapsed: 6.05 min\n",
            "Epoch: 019/050 | Batch 0000/0034 | Loss: 207.0386\n",
            "Epoch: 019/050 | Train: 72.21% | Validation: 64.23%\n",
            "Time elapsed: 6.38 min\n",
            "Epoch: 020/050 | Batch 0000/0034 | Loss: 165.2012\n",
            "Epoch: 020/050 | Train: 74.27% | Validation: 66.84% | New model saved\n",
            "Time elapsed: 6.72 min\n",
            "Epoch: 021/050 | Batch 0000/0034 | Loss: 159.2715\n",
            "Epoch: 021/050 | Train: 66.98% | Validation: 61.84%\n",
            "Time elapsed: 7.05 min\n",
            "Epoch: 022/050 | Batch 0000/0034 | Loss: 201.7973\n",
            "Epoch: 022/050 | Train: 75.15% | Validation: 66.53%\n",
            "Time elapsed: 7.39 min\n",
            "Epoch: 023/050 | Batch 0000/0034 | Loss: 179.1871\n",
            "Epoch: 023/050 | Train: 74.52% | Validation: 66.21%\n",
            "Time elapsed: 7.72 min\n",
            "Epoch: 024/050 | Batch 0000/0034 | Loss: 147.6196\n",
            "Epoch: 024/050 | Train: 75.41% | Validation: 65.17%\n",
            "Time elapsed: 8.06 min\n",
            "Epoch: 025/050 | Batch 0000/0034 | Loss: 148.5923\n",
            "Epoch: 025/050 | Train: 75.83% | Validation: 68.82% | New model saved\n",
            "Time elapsed: 8.39 min\n",
            "Epoch: 026/050 | Batch 0000/0034 | Loss: 169.5695\n",
            "Epoch: 026/050 | Train: 76.82% | Validation: 67.47%\n",
            "Time elapsed: 8.73 min\n",
            "Epoch: 027/050 | Batch 0000/0034 | Loss: 158.8919\n",
            "Epoch: 027/050 | Train: 78.56% | Validation: 68.20%\n",
            "Time elapsed: 9.07 min\n",
            "Epoch: 028/050 | Batch 0000/0034 | Loss: 155.8726\n",
            "Epoch: 028/050 | Train: 75.74% | Validation: 64.86%\n",
            "Time elapsed: 9.40 min\n",
            "Epoch: 029/050 | Batch 0000/0034 | Loss: 161.1557\n",
            "Epoch: 029/050 | Train: 76.13% | Validation: 65.69%\n",
            "Time elapsed: 9.74 min\n",
            "Epoch: 030/050 | Batch 0000/0034 | Loss: 174.9099\n",
            "Epoch: 030/050 | Train: 78.68% | Validation: 66.21%\n",
            "Time elapsed: 10.07 min\n",
            "Epoch: 031/050 | Batch 0000/0034 | Loss: 138.7172\n",
            "Epoch: 031/050 | Train: 80.04% | Validation: 61.42%\n",
            "Time elapsed: 10.41 min\n",
            "Epoch: 032/050 | Batch 0000/0034 | Loss: 147.7053\n",
            "Epoch: 032/050 | Train: 81.07% | Validation: 62.88%\n",
            "Time elapsed: 10.74 min\n",
            "Epoch: 033/050 | Batch 0000/0034 | Loss: 104.6806\n",
            "Epoch: 033/050 | Train: 80.93% | Validation: 65.07%\n",
            "Time elapsed: 11.07 min\n",
            "Epoch: 034/050 | Batch 0000/0034 | Loss: 126.8417\n",
            "Epoch: 034/050 | Train: 78.94% | Validation: 64.13%\n",
            "Time elapsed: 11.41 min\n",
            "Epoch: 035/050 | Batch 0000/0034 | Loss: 106.1372\n",
            "Epoch: 035/050 | Train: 83.53% | Validation: 66.42%\n",
            "Time elapsed: 11.74 min\n",
            "Epoch: 036/050 | Batch 0000/0034 | Loss: 97.4256\n",
            "Epoch: 036/050 | Train: 84.47% | Validation: 64.34%\n",
            "Time elapsed: 12.08 min\n",
            "Epoch: 037/050 | Batch 0000/0034 | Loss: 98.3087\n",
            "Epoch: 037/050 | Train: 87.64% | Validation: 65.28%\n",
            "Time elapsed: 12.41 min\n",
            "Epoch: 038/050 | Batch 0000/0034 | Loss: 76.5055\n",
            "Epoch: 038/050 | Train: 88.31% | Validation: 64.03%\n",
            "Time elapsed: 12.74 min\n",
            "Epoch: 039/050 | Batch 0000/0034 | Loss: 89.2683\n",
            "Epoch: 039/050 | Train: 87.07% | Validation: 63.82%\n",
            "Time elapsed: 13.08 min\n",
            "Epoch: 040/050 | Batch 0000/0034 | Loss: 91.9060\n",
            "Epoch: 040/050 | Train: 88.37% | Validation: 62.98%\n",
            "Time elapsed: 13.41 min\n",
            "Epoch: 041/050 | Batch 0000/0034 | Loss: 83.3599\n",
            "Epoch: 041/050 | Train: 90.63% | Validation: 62.88%\n",
            "Time elapsed: 13.75 min\n",
            "Epoch: 042/050 | Batch 0000/0034 | Loss: 40.0642\n",
            "Epoch: 042/050 | Train: 91.67% | Validation: 61.11%\n",
            "Time elapsed: 14.08 min\n",
            "Epoch: 043/050 | Batch 0000/0034 | Loss: 84.0428\n",
            "Epoch: 043/050 | Train: 89.62% | Validation: 61.11%\n",
            "Time elapsed: 14.42 min\n",
            "Epoch: 044/050 | Batch 0000/0034 | Loss: 72.9288\n",
            "Epoch: 044/050 | Train: 94.19% | Validation: 63.92%\n",
            "Time elapsed: 14.75 min\n",
            "Epoch: 045/050 | Batch 0000/0034 | Loss: 45.7902\n",
            "Epoch: 045/050 | Train: 89.25% | Validation: 63.50%\n",
            "Time elapsed: 15.08 min\n",
            "Epoch: 046/050 | Batch 0000/0034 | Loss: 51.1813\n",
            "Epoch: 046/050 | Train: 94.06% | Validation: 61.94%\n",
            "Time elapsed: 15.42 min\n",
            "Epoch: 047/050 | Batch 0000/0034 | Loss: 43.5900\n",
            "Epoch: 047/050 | Train: 94.64% | Validation: 63.30%\n",
            "Time elapsed: 15.75 min\n",
            "Epoch: 048/050 | Batch 0000/0034 | Loss: 23.1506\n",
            "Epoch: 048/050 | Train: 96.39% | Validation: 63.61%\n",
            "Time elapsed: 16.09 min\n",
            "Epoch: 049/050 | Batch 0000/0034 | Loss: 20.3524\n",
            "Epoch: 049/050 | Train: 96.81% | Validation: 61.63%\n",
            "Time elapsed: 16.42 min\n",
            "Epoch: 050/050 | Batch 0000/0034 | Loss: 22.8279\n",
            "Epoch: 050/050 | Train: 94.20% | Validation: 62.98%\n",
            "Time elapsed: 16.76 min\n",
            "Total Training Time: 16.76 min\n",
            "Test accuracy 58.01%\n"
          ]
        },
        {
          "output_type": "display_data",
          "data": {
            "text/plain": [
              "<Figure size 432x288 with 2 Axes>"
            ],
            "image/png": "[encoded data removed]"
          },
          "metadata": {
            "needs_background": "light"
          }
        },
        {
          "output_type": "display_data",
          "data": {
            "text/plain": [
              "<Figure size 432x288 with 1 Axes>"
            ],
            "image/png": "[encoded data removed]"
          },
          "metadata": {
            "needs_background": "light"
          }
        }
      ]
    },
    {
      "cell_type": "code",
      "metadata": {
        "id": "Hi338OUrwQ1V",
        "colab": {
          "base_uri": "https://localhost:8080/",
          "height": 296
        },
        "outputId": "b3ede767-2d0b-445d-d937-d2cfb65ae2f8"
      },
      "source": [
        "plot_training_loss(minibatch_loss_list=minibatch_loss_list,\n",
        "                   num_epochs=NUM_EPOCHS,\n",
        "                   iter_per_epoch=len(trn_dl),\n",
        "                   results_dir=None,\n",
        "                   averaging_iterations=200)\n",
        "\n",
        "plt.savefig(r'Resnet34/Lossmulticlass')\n",
        "plt.show()\n",
        "\n",
        "\n"
      ],
      "execution_count": 26,
      "outputs": [
        {
          "output_type": "display_data",
          "data": {
            "text/plain": [
              "<Figure size 432x288 with 2 Axes>"
            ],
            "image/png": "[encoded data removed]"
          },
          "metadata": {
            "needs_background": "light"
          }
        }
      ]
    },
    {
      "cell_type": "code",
      "metadata": {
        "colab": {
          "base_uri": "https://localhost:8080/",
          "height": 301
        },
        "id": "ElZKXff8dfV5",
        "outputId": "c59722d4-7494-42ed-e0cd-0f35a92a508f"
      },
      "source": [
        "plot_accuracy(train_acc_list=train_acc_list,\n",
        "              valid_acc_list=valid_acc_list,\n",
        "              results_dir=None)\n",
        "plt.ylim([60, 100])\n",
        "plt.savefig(r'Resnet34/Accuraccymulticlass')\n",
        "plt.show()"
      ],
      "execution_count": 27,
      "outputs": [
        {
          "output_type": "display_data",
          "data": {
            "text/plain": [
              "<Figure size 432x288 with 1 Axes>"
            ],
            "image/png": "[encoded data removed]"
          },
          "metadata": {
            "needs_background": "light"
          }
        }
      ]
    },
    {
      "cell_type": "markdown",
      "metadata": {
        "id": "qMpPdJk6cpjY"
      },
      "source": [
        "# Plots"
      ]
    },
    {
      "cell_type": "code",
      "metadata": {
        "id": "NrZJAHoE8SXt",
        "colab": {
          "base_uri": "https://localhost:8080/"
        },
        "outputId": "01f6a217-891b-4ebb-935b-27f06213ed22"
      },
      "source": [
        "\n",
        "import matplotlib.pyplot as plt\n",
        "\n",
        "from sklearn.metrics import confusion_matrix\n",
        "from sklearn.metrics import f1_score\n",
        "model.cpu()\n",
        "device=torch.device('cpu')\n",
        "test_results = []\n",
        "test_results1 = []\n",
        "model.load_state_dict(torch.load(r'Resnet34/CNN.pth'))\n",
        "model.eval()\n",
        "correct, total = 0, 0\n",
        "for batch in tst_dl:\n",
        "      x_raw, y_batch = [t.to(device) for t in batch]\n",
        "      out = model(x_raw)\n",
        "      y_hat = F.log_softmax(out, dim=1).argmax(dim=1)\n",
        "      total += y_batch.size(0)\n",
        "      correct += (y_hat == y_batch).sum().item()\n",
        "      test_results.extend(y_batch.tolist())\n",
        "      test_results1.extend((y_hat.tolist()))\n",
        "    \n",
        "\n",
        "targ = torch.tensor(test_results)\n",
        "preds = torch.tensor(test_results1)\n",
        "cm = confusion_matrix(targ,preds)\n",
        "print(cm)\n",
        "\n"
      ],
      "execution_count": 32,
      "outputs": [
        {
          "output_type": "stream",
          "name": "stdout",
          "text": [
            "[[767  85  79  67]\n",
            " [177 773 135 206]\n",
            " [ 82 163 527 113]\n",
            " [133 154 143 502]]\n"
          ]
        }
      ]
    },
    {
      "cell_type": "code",
      "metadata": {
        "id": "PyJ23Mrh-CFz"
      },
      "source": [
        "def smooth(y, box_pts):\n",
        "    box = np.ones(box_pts)/box_pts\n",
        "    y_smooth = np.convolve(y, box, mode='same')\n",
        "    return y_smooth\n",
        "\n",
        "\n",
        "from sklearn.metrics import confusion_matrix"
      ],
      "execution_count": 28,
      "outputs": []
    },
    {
      "cell_type": "code",
      "metadata": {
        "id": "ivws5_ZA-NBT",
        "colab": {
          "base_uri": "https://localhost:8080/",
          "height": 736
        },
        "outputId": "911fa665-2e2c-429c-f5a2-d006ed3808d2"
      },
      "source": [
        "#model = ResNet(BasicBlock, layers=[3, 4, 6, 3], num_classes=4)\n",
        "test_results = []\n",
        "test_results1 = []\n",
        "model.load_state_dict(torch.load(r'Resnet34/CNN.pth'))\n",
        "model.eval()\n",
        "correct, total = 0, 0\n",
        "for batch in val_dl:\n",
        "      x_raw, y_batch = [t.to(device) for t in batch]\n",
        "      out = model(x_raw)\n",
        "      y_hat = F.log_softmax(out, dim=1).argmax(dim=1)\n",
        "      total += y_batch.size(0)\n",
        "      correct += (y_hat == y_batch).sum().item()\n",
        "      test_results.extend(y_batch.tolist())\n",
        "      test_results1.extend((y_hat.tolist()))\n",
        "    "
      ],
      "execution_count": 30,
      "outputs": [
        {
          "output_type": "error",
          "ename": "RuntimeError",
          "evalue": "ignored",
          "traceback": [
            "\u001b[1;31m---------------------------------------------------------------------------\u001b[0m",
            "\u001b[1;31mRuntimeError\u001b[0m                              Traceback (most recent call last)",
            "\u001b[1;32m<ipython-input-30-3e92256e80b3>\u001b[0m in \u001b[0;36m<module>\u001b[1;34m\u001b[0m\n\u001b[0;32m      7\u001b[0m \u001b[1;32mfor\u001b[0m \u001b[0mbatch\u001b[0m \u001b[1;32min\u001b[0m \u001b[0mval_dl\u001b[0m\u001b[1;33m:\u001b[0m\u001b[1;33m\u001b[0m\u001b[1;33m\u001b[0m\u001b[0m\n\u001b[0;32m      8\u001b[0m       \u001b[0mx_raw\u001b[0m\u001b[1;33m,\u001b[0m \u001b[0my_batch\u001b[0m \u001b[1;33m=\u001b[0m \u001b[1;33m[\u001b[0m\u001b[0mt\u001b[0m\u001b[1;33m.\u001b[0m\u001b[0mto\u001b[0m\u001b[1;33m(\u001b[0m\u001b[0mdevice\u001b[0m\u001b[1;33m)\u001b[0m \u001b[1;32mfor\u001b[0m \u001b[0mt\u001b[0m \u001b[1;32min\u001b[0m \u001b[0mbatch\u001b[0m\u001b[1;33m]\u001b[0m\u001b[1;33m\u001b[0m\u001b[1;33m\u001b[0m\u001b[0m\n\u001b[1;32m----> 9\u001b[1;33m       \u001b[0mout\u001b[0m \u001b[1;33m=\u001b[0m \u001b[0mmodel\u001b[0m\u001b[1;33m(\u001b[0m\u001b[0mx_raw\u001b[0m\u001b[1;33m)\u001b[0m\u001b[1;33m\u001b[0m\u001b[1;33m\u001b[0m\u001b[0m\n\u001b[0m\u001b[0;32m     10\u001b[0m       \u001b[0my_hat\u001b[0m \u001b[1;33m=\u001b[0m \u001b[0mF\u001b[0m\u001b[1;33m.\u001b[0m\u001b[0mlog_softmax\u001b[0m\u001b[1;33m(\u001b[0m\u001b[0mout\u001b[0m\u001b[1;33m,\u001b[0m \u001b[0mdim\u001b[0m\u001b[1;33m=\u001b[0m\u001b[1;36m1\u001b[0m\u001b[1;33m)\u001b[0m\u001b[1;33m.\u001b[0m\u001b[0margmax\u001b[0m\u001b[1;33m(\u001b[0m\u001b[0mdim\u001b[0m\u001b[1;33m=\u001b[0m\u001b[1;36m1\u001b[0m\u001b[1;33m)\u001b[0m\u001b[1;33m\u001b[0m\u001b[1;33m\u001b[0m\u001b[0m\n\u001b[0;32m     11\u001b[0m       \u001b[0mtotal\u001b[0m \u001b[1;33m+=\u001b[0m \u001b[0my_batch\u001b[0m\u001b[1;33m.\u001b[0m\u001b[0msize\u001b[0m\u001b[1;33m(\u001b[0m\u001b[1;36m0\u001b[0m\u001b[1;33m)\u001b[0m\u001b[1;33m\u001b[0m\u001b[1;33m\u001b[0m\u001b[0m\n",
            "\u001b[1;32m~\\anaconda3\\envs\\Env1\\lib\\site-packages\\torch\\nn\\modules\\module.py\u001b[0m in \u001b[0;36m_call_impl\u001b[1;34m(self, *input, **kwargs)\u001b[0m\n\u001b[0;32m    720\u001b[0m             \u001b[0mresult\u001b[0m \u001b[1;33m=\u001b[0m \u001b[0mself\u001b[0m\u001b[1;33m.\u001b[0m\u001b[0m_slow_forward\u001b[0m\u001b[1;33m(\u001b[0m\u001b[1;33m*\u001b[0m\u001b[0minput\u001b[0m\u001b[1;33m,\u001b[0m \u001b[1;33m**\u001b[0m\u001b[0mkwargs\u001b[0m\u001b[1;33m)\u001b[0m\u001b[1;33m\u001b[0m\u001b[1;33m\u001b[0m\u001b[0m\n\u001b[0;32m    721\u001b[0m         \u001b[1;32melse\u001b[0m\u001b[1;33m:\u001b[0m\u001b[1;33m\u001b[0m\u001b[1;33m\u001b[0m\u001b[0m\n\u001b[1;32m--> 722\u001b[1;33m             \u001b[0mresult\u001b[0m \u001b[1;33m=\u001b[0m \u001b[0mself\u001b[0m\u001b[1;33m.\u001b[0m\u001b[0mforward\u001b[0m\u001b[1;33m(\u001b[0m\u001b[1;33m*\u001b[0m\u001b[0minput\u001b[0m\u001b[1;33m,\u001b[0m \u001b[1;33m**\u001b[0m\u001b[0mkwargs\u001b[0m\u001b[1;33m)\u001b[0m\u001b[1;33m\u001b[0m\u001b[1;33m\u001b[0m\u001b[0m\n\u001b[0m\u001b[0;32m    723\u001b[0m         for hook in itertools.chain(\n\u001b[0;32m    724\u001b[0m                 \u001b[0m_global_forward_hooks\u001b[0m\u001b[1;33m.\u001b[0m\u001b[0mvalues\u001b[0m\u001b[1;33m(\u001b[0m\u001b[1;33m)\u001b[0m\u001b[1;33m,\u001b[0m\u001b[1;33m\u001b[0m\u001b[1;33m\u001b[0m\u001b[0m\n",
            "\u001b[1;32m<ipython-input-22-ccb1ea963b38>\u001b[0m in \u001b[0;36mforward\u001b[1;34m(self, x)\u001b[0m\n\u001b[0;32m    180\u001b[0m \u001b[1;33m\u001b[0m\u001b[0m\n\u001b[0;32m    181\u001b[0m     \u001b[1;32mdef\u001b[0m \u001b[0mforward\u001b[0m\u001b[1;33m(\u001b[0m\u001b[0mself\u001b[0m\u001b[1;33m,\u001b[0m \u001b[0mx\u001b[0m\u001b[1;33m)\u001b[0m\u001b[1;33m:\u001b[0m\u001b[1;33m\u001b[0m\u001b[1;33m\u001b[0m\u001b[0m\n\u001b[1;32m--> 182\u001b[1;33m         \u001b[0mx\u001b[0m \u001b[1;33m=\u001b[0m \u001b[0mself\u001b[0m\u001b[1;33m.\u001b[0m\u001b[0mconv1\u001b[0m\u001b[1;33m(\u001b[0m\u001b[0mx\u001b[0m\u001b[1;33m)\u001b[0m\u001b[1;33m\u001b[0m\u001b[1;33m\u001b[0m\u001b[0m\n\u001b[0m\u001b[0;32m    183\u001b[0m         \u001b[0mx\u001b[0m \u001b[1;33m=\u001b[0m \u001b[0mself\u001b[0m\u001b[1;33m.\u001b[0m\u001b[0mbn1\u001b[0m\u001b[1;33m(\u001b[0m\u001b[0mx\u001b[0m\u001b[1;33m)\u001b[0m\u001b[1;33m\u001b[0m\u001b[1;33m\u001b[0m\u001b[0m\n\u001b[0;32m    184\u001b[0m         \u001b[0mx\u001b[0m \u001b[1;33m=\u001b[0m \u001b[0mself\u001b[0m\u001b[1;33m.\u001b[0m\u001b[0mrelu\u001b[0m\u001b[1;33m(\u001b[0m\u001b[0mx\u001b[0m\u001b[1;33m)\u001b[0m\u001b[1;33m\u001b[0m\u001b[1;33m\u001b[0m\u001b[0m\n",
            "\u001b[1;32m~\\anaconda3\\envs\\Env1\\lib\\site-packages\\torch\\nn\\modules\\module.py\u001b[0m in \u001b[0;36m_call_impl\u001b[1;34m(self, *input, **kwargs)\u001b[0m\n\u001b[0;32m    720\u001b[0m             \u001b[0mresult\u001b[0m \u001b[1;33m=\u001b[0m \u001b[0mself\u001b[0m\u001b[1;33m.\u001b[0m\u001b[0m_slow_forward\u001b[0m\u001b[1;33m(\u001b[0m\u001b[1;33m*\u001b[0m\u001b[0minput\u001b[0m\u001b[1;33m,\u001b[0m \u001b[1;33m**\u001b[0m\u001b[0mkwargs\u001b[0m\u001b[1;33m)\u001b[0m\u001b[1;33m\u001b[0m\u001b[1;33m\u001b[0m\u001b[0m\n\u001b[0;32m    721\u001b[0m         \u001b[1;32melse\u001b[0m\u001b[1;33m:\u001b[0m\u001b[1;33m\u001b[0m\u001b[1;33m\u001b[0m\u001b[0m\n\u001b[1;32m--> 722\u001b[1;33m             \u001b[0mresult\u001b[0m \u001b[1;33m=\u001b[0m \u001b[0mself\u001b[0m\u001b[1;33m.\u001b[0m\u001b[0mforward\u001b[0m\u001b[1;33m(\u001b[0m\u001b[1;33m*\u001b[0m\u001b[0minput\u001b[0m\u001b[1;33m,\u001b[0m \u001b[1;33m**\u001b[0m\u001b[0mkwargs\u001b[0m\u001b[1;33m)\u001b[0m\u001b[1;33m\u001b[0m\u001b[1;33m\u001b[0m\u001b[0m\n\u001b[0m\u001b[0;32m    723\u001b[0m         for hook in itertools.chain(\n\u001b[0;32m    724\u001b[0m                 \u001b[0m_global_forward_hooks\u001b[0m\u001b[1;33m.\u001b[0m\u001b[0mvalues\u001b[0m\u001b[1;33m(\u001b[0m\u001b[1;33m)\u001b[0m\u001b[1;33m,\u001b[0m\u001b[1;33m\u001b[0m\u001b[1;33m\u001b[0m\u001b[0m\n",
            "\u001b[1;32m~\\anaconda3\\envs\\Env1\\lib\\site-packages\\torch\\nn\\modules\\conv.py\u001b[0m in \u001b[0;36mforward\u001b[1;34m(self, input)\u001b[0m\n\u001b[0;32m    254\u001b[0m                             \u001b[0mself\u001b[0m\u001b[1;33m.\u001b[0m\u001b[0mweight\u001b[0m\u001b[1;33m,\u001b[0m \u001b[0mself\u001b[0m\u001b[1;33m.\u001b[0m\u001b[0mbias\u001b[0m\u001b[1;33m,\u001b[0m \u001b[0mself\u001b[0m\u001b[1;33m.\u001b[0m\u001b[0mstride\u001b[0m\u001b[1;33m,\u001b[0m\u001b[1;33m\u001b[0m\u001b[1;33m\u001b[0m\u001b[0m\n\u001b[0;32m    255\u001b[0m                             _single(0), self.dilation, self.groups)\n\u001b[1;32m--> 256\u001b[1;33m         return F.conv1d(input, self.weight, self.bias, self.stride,\n\u001b[0m\u001b[0;32m    257\u001b[0m                         self.padding, self.dilation, self.groups)\n\u001b[0;32m    258\u001b[0m \u001b[1;33m\u001b[0m\u001b[0m\n",
            "\u001b[1;31mRuntimeError\u001b[0m: CUDA out of memory. Tried to allocate 16.00 MiB (GPU 0; 2.00 GiB total capacity; 1.13 GiB already allocated; 0 bytes free; 1.32 GiB reserved in total by PyTorch)"
          ]
        }
      ]
    },
    {
      "cell_type": "code",
      "metadata": {
        "id": "vQPD1N0sbbna"
      },
      "source": [
        "\n",
        "\n",
        "Tutal =  pd.DataFrame([test_results,test_results1])"
      ],
      "execution_count": 43,
      "outputs": []
    },
    {
      "cell_type": "code",
      "metadata": {
        "colab": {
          "base_uri": "https://localhost:8080/"
        },
        "id": "q0DKqnCi-U1d",
        "outputId": "3a086e47-1630-4855-d2f9-741d8bbc3bba"
      },
      "source": [
        "targ = torch.tensor(test_results)\n",
        "preds = torch.tensor(test_results1)\n",
        "cm = confusion_matrix(targ,preds)\n",
        "print(cm)\n",
        "#labes = ['Bad','Good']\n",
        "labes = ['Uncorrected','Rejected','Move','Blink']"
      ],
      "execution_count": 33,
      "outputs": [
        {
          "output_type": "stream",
          "name": "stdout",
          "text": [
            "[[767  85  79  67]\n",
            " [177 773 135 206]\n",
            " [ 82 163 527 113]\n",
            " [133 154 143 502]]\n"
          ]
        }
      ]
    },
    {
      "cell_type": "code",
      "metadata": {
        "colab": {
          "base_uri": "https://localhost:8080/",
          "height": 810
        },
        "id": "SC0iG22Z-gtP",
        "outputId": "a62f08d8-5654-49b6-bb16-649a04f270af"
      },
      "source": [
        "plt.figure(figsize=(10,10))\n",
        "plot_confusion_matrixes(cm, labes, normalize=True)\n",
        "plt.title('CONFUSION MATRIX')\n",
        "plt.savefig(r'Resnet34/evenclasses')\n",
        "plt.show()"
      ],
      "execution_count": 34,
      "outputs": [
        {
          "output_type": "stream",
          "name": "stdout",
          "text": [
            "Normalized confusion matrix\n",
            "[[0.76853707 0.08517034 0.07915832 0.06713427]\n",
            " [0.13710302 0.59876065 0.1045701  0.15956623]\n",
            " [0.09265537 0.18418079 0.59548023 0.12768362]\n",
            " [0.14270386 0.16523605 0.15343348 0.53862661]]\n"
          ]
        },
        {
          "output_type": "display_data",
          "data": {
            "text/plain": [
              "<Figure size 720x720 with 2 Axes>"
            ],
            "image/png": "[encoded data removed]"
          },
          "metadata": {
            "needs_background": "light"
          }
        }
      ]
    },
    {
      "cell_type": "code",
      "metadata": {
        "colab": {
          "base_uri": "https://localhost:8080/",
          "height": 626
        },
        "id": "HI5VeXle-izi",
        "outputId": "5e77264b-0b8b-47d7-e055-2a6f759bcc2b"
      },
      "source": [
        "from sklearn.metrics import f1_score\n",
        "fsore = f1_score(targ,preds , average=None)\n",
        "plt.figure(figsize=(10,10))\n",
        "plt.barh(labes,fsore)\n",
        "for index, value in enumerate(fsore):\n",
        "    plt.text(round(value,2), index, str(round(value,2)))\n",
        "    \n",
        "plt.rc('figure', titlesize=48)  # fontsize of the figure title\n",
        "\n",
        "plt.yticks(values)\n",
        "plt.title('Fscore',fontsize=16)\n",
        "plt.savefig(r'OwnResnet/FscoreEvenClass')\n",
        "print(fsore)"
      ],
      "execution_count": 46,
      "outputs": [
        {
          "output_type": "stream",
          "name": "stdout",
          "text": [
            "[0.69393382 0.62211422 0.58849315 0.53501722]\n"
          ]
        },
        {
          "output_type": "display_data",
          "data": {
            "text/plain": [
              "<Figure size 720x720 with 1 Axes>"
            ],
            "image/png": "[encoded data removed]"
          },
          "metadata": {
            "needs_background": "light"
          }
        }
      ]
    },
    {
      "cell_type": "code",
      "metadata": {
        "id": "s90ityC__rN4"
      },
      "source": [
        "# import itertools\n",
        "# class_dict = {0: 'wrong',\n",
        "#               1: 'good'}\n",
        "\n",
        "# plt.figure(figsize=(10,10))\n",
        "# plot_confusion_matrixes(cm, class_dict.values(), normalize=True)\n",
        "# plt.title('CONFUSION MATRIX')\n",
        "# plt.savefig(r'ResnetResults/Confusion Matrix Multiple %')\n",
        "# plt.show()\n",
        "\n",
        "# fsore = f1_score(targ,preds , average=None)\n",
        "# plt.bar(list(class_dict.values()),fsore)\n",
        "# plt.rc('figure', titlesize=48)  # fontsize of the figure title\n",
        "# plt.xticks(list(class_dict.values()))\n",
        "# plt.title('Fscore',fontsize=16)\n",
        "# plt.savefig(r'ResnetResults/Fscore')\n",
        "# plt.show()\n",
        "# print(fsore)\n",
        "\n"
      ],
      "execution_count": null,
      "outputs": []
    }
  ]
}